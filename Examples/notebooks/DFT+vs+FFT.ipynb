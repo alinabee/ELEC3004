{
 "cells": [
  {
   "cell_type": "markdown",
   "metadata": {},
   "source": [
    "# DFT vs FFT\n",
    "Lets have a look at how much a difference the FFT makes to the computation of the DFT of a signal in terms of processing time of a long sequence."
   ]
  },
  {
   "cell_type": "code",
   "execution_count": 18,
   "metadata": {
    "collapsed": true
   },
   "outputs": [],
   "source": [
    "import numpy as np\n",
    "\n",
    "#our DFT\n",
    "def dft(signal):\n",
    "    '''\n",
    "    Compute the 1D DFT given signal of length N\n",
    "    '''\n",
    "    N, = signal.shape\n",
    "    w = np.exp(-2.0*np.pi*1j/N) #Nth root of unity\n",
    "    dftSignal = np.zeros(N, np.complex)\n",
    "    for n in range(N):\n",
    "        for k in range(N):\n",
    "            dftSignal[k] += signal[n]*w**(n*k) #we create the Fourier matrix and do the dot at same time\n",
    "    return dftSignal"
   ]
  },
  {
   "cell_type": "markdown",
   "metadata": {},
   "source": [
    "Lets define our test signal as we've done many times before"
   ]
  },
  {
   "cell_type": "code",
   "execution_count": 19,
   "metadata": {
    "collapsed": false
   },
   "outputs": [
    {
     "name": "stdout",
     "output_type": "stream",
     "text": [
      "(2048, 3)\n",
      "(2048,)\n"
     ]
    }
   ],
   "source": [
    "#define a test signal\n",
    "#lets reuse the Fourier Transform example\n",
    "#three waves\n",
    "freqs = np.array([0.5, 1, 2.0]) #Hz - cycles per second\n",
    "amplitudes = np.array([1.0, 0.5, 1.5])\n",
    "time_to_plot = 2 # second\n",
    "sample_rate = 1024 # samples per second\n",
    "N = sample_rate * time_to_plot\n",
    "\n",
    "#create each wave for each member of lists freqs and amplitudes\n",
    "t = np.linspace(0, time_to_plot, N)\n",
    "waves = np.array([amplitudes * np.sin(freqs * i * 2*np.pi) for i in t]) #2D array of the waves\n",
    "print(waves.shape)\n",
    "\n",
    "#create the signal as a superposition of the waves\n",
    "signal = np.sum(waves, axis=1)\n",
    "print(signal.shape)"
   ]
  },
  {
   "cell_type": "markdown",
   "metadata": {},
   "source": [
    "Now compute each algorithm with timings to see how long each computation takes"
   ]
  },
  {
   "cell_type": "code",
   "execution_count": 20,
   "metadata": {
    "collapsed": false
   },
   "outputs": [
    {
     "name": "stdout",
     "output_type": "stream",
     "text": [
      "DFT took 18.016666412353516 secs or 0.30027777353922525 mins in total\n",
      "FFT took 0.0 secs or 0.0 mins in total\n"
     ]
    }
   ],
   "source": [
    "import time\n",
    "\n",
    "#compute our DFT\n",
    "start = time.time()\n",
    "dftSignal = dft(signal)\n",
    "end = time.time()\n",
    "elapsed = end - start\n",
    "print(\"DFT took \" + str(elapsed) + \" secs or \" + str(elapsed/60) + \" mins in total\")\n",
    "\n",
    "#Numpy FFT\n",
    "start = time.time()\n",
    "fftSignal = np.fft.fft(signal)\n",
    "end = time.time()\n",
    "elapsed = end - start\n",
    "print(\"FFT took \" + str(elapsed) + \" secs or \" + str(elapsed/60) + \" mins in total\")"
   ]
  },
  {
   "cell_type": "code",
   "execution_count": 21,
   "metadata": {
    "collapsed": false
   },
   "outputs": [
    {
     "data": {
      "image/png": "[encoded data removed]",
      "text/plain": [
       "<matplotlib.figure.Figure at 0x17df33a2cc0>"
      ]
     },
     "metadata": {},
     "output_type": "display_data"
    }
   ],
   "source": [
    "#plot\n",
    "import matplotlib.pyplot as plt\n",
    "\n",
    "plt.plot(t, np.abs(dftSignal), '-.r')\n",
    "plt.plot(t, np.abs(fftSignal), '-*b')\n",
    "plt.show()"
   ]
  },
  {
   "cell_type": "markdown",
   "metadata": {},
   "source": [
    "Even for a modest size $N=1024$, the FFT is around 18 times faster with no discernable difference in results!"
   ]
  },
  {
   "cell_type": "code",
   "execution_count": null,
   "metadata": {
    "collapsed": true
   },
   "outputs": [],
   "source": []
  }
 ],
 "metadata": {
  "kernelspec": {
   "display_name": "Python 3",
   "language": "python",
   "name": "python3"
  },
  "language_info": {
   "codemirror_mode": {
    "name": "ipython",
    "version": 3
   },
   "file_extension": ".py",
   "mimetype": "text/x-python",
   "name": "python",
   "nbconvert_exporter": "python",
   "pygments_lexer": "ipython3",
   "version": "3.5.3"
  }
 },
 "nbformat": 4,
 "nbformat_minor": 2
}
