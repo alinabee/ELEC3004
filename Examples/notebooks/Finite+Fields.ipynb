{
 "cells": [
  {
   "cell_type": "markdown",
   "metadata": {},
   "source": [
    "# Finite Fields\n",
    "In this notebook, we show how a system can represent an infinite mathematical system with only a finite number of values. The finite field is the basis of the discrete Fourier transform, also known as the finite Fourier transform, the original name given to it by Cooley and Tukey, though it was known to Gauss. Here, a field is a mathematical system that is closed under addition, subtraction, multiplication and division."
   ]
  },
  {
   "cell_type": "markdown",
   "metadata": {},
   "source": [
    "Let's begin with a simple \"signal\". Consider all the integer multiples of $m$. To begin with let's assume $m=2$, i.e. all the even numbers, and our finite system consists of length $p$, where $p$ is a prime number."
   ]
  },
  {
   "cell_type": "code",
   "execution_count": 1,
   "metadata": {
    "collapsed": true
   },
   "outputs": [],
   "source": [
    "m = 2\n",
    "p = 17"
   ]
  },
  {
   "cell_type": "markdown",
   "metadata": {},
   "source": [
    "Can we represent an arbitrary multiple of m (in the simple case, any even number) with a finite set of numbers and still do usual arithmetic? Yes! If we use the remainders $r$ to the nearest multiple of $p$ or $\\pmod p$, we create a set of residue classes (which act like pigeon holes where we put the remainders in) which are finite in number, namely $0\\leq r < p$. This is written as the equation $n\\equiv r \\pmod p$."
   ]
  },
  {
   "cell_type": "code",
   "execution_count": 3,
   "metadata": {
    "collapsed": false
   },
   "outputs": [
    {
     "name": "stdout",
     "output_type": "stream",
     "text": [
      "r: 6\n"
     ]
    }
   ],
   "source": [
    "n = 100000\n",
    "r = n % p #r = n mod p\n",
    "print(\"r:\", r)"
   ]
  },
  {
   "cell_type": "markdown",
   "metadata": {},
   "source": [
    "We can add, subtract, multiply between residue classes, so that the arithmetic is reduced to the arithmetic between classes"
   ]
  },
  {
   "cell_type": "code",
   "execution_count": 7,
   "metadata": {
    "collapsed": false
   },
   "outputs": [
    {
     "name": "stdout",
     "output_type": "stream",
     "text": [
      "add (no mod): 11\n",
      "add (mod): 11\n",
      "subtract (no mod): 2\n",
      "subtract (mod): 2\n",
      "multiply (no mod): 8\n",
      "multiply (mod): 8\n"
     ]
    }
   ],
   "source": [
    "a1 = 100\n",
    "a2 = 13\n",
    "#addition\n",
    "a = (a1+a2)%p\n",
    "print(\"add (no mod):\",a)\n",
    "a = a1%p+a2%p\n",
    "print(\"add (mod):\",a%p)\n",
    "#subtract\n",
    "a = (a1-a2)%p\n",
    "print(\"subtract (no mod):\",a)\n",
    "a = a1%p-a2%p\n",
    "print(\"subtract (mod):\",a%p)\n",
    "#multiply\n",
    "a = (a1*a2)%p\n",
    "print(\"multiply (no mod):\",a)\n",
    "a = a1%p*a2%p\n",
    "print(\"multiply (mod):\",a%p)"
   ]
  },
  {
   "cell_type": "markdown",
   "metadata": {},
   "source": [
    "We can even divide two numbers, so that we don't need the original (non residue) numbers at all! The important device we need to know is the inverse of each residue class, i.e. $aa^{-1}\\equiv 1 \\pmod p$. Then the operation of division by $a$ can be replaced with a multiplication with its multiplicative inverse $a^{-1}$. To do this, we can precompute these inverses (since the classes as finite and known) using the extended Euclidean algorithm."
   ]
  },
  {
   "cell_type": "code",
   "execution_count": 9,
   "metadata": {
    "collapsed": false
   },
   "outputs": [
    {
     "name": "stdout",
     "output_type": "stream",
     "text": [
      "a2 inverse: 4\n",
      "a2*a2Inv (mod p) =  1\n"
     ]
    }
   ],
   "source": [
    "def extended_gcd(a, b):\n",
    "    '''\n",
    "    Extended Euclidean algorithm\n",
    "    Take positive integers a, b as input, and return a triple (x, y, d), such that ax + by = d = gcd(a, b).\n",
    "    ''' \n",
    "    x,y, u,v = 0,1, 1,0\n",
    "    while a != 0:\n",
    "        q, r = b//a, b%a\n",
    "        m, n = x-u*q, y-v*q\n",
    "        b,a, x,y, u,v = a,r, u,v, m,n\n",
    "    return x, y, b\n",
    "\n",
    "def minverse(x, m):\n",
    "    '''\n",
    "    Return multiplicative inverse from a tuple (u, v, d); they are the greatest common divisor d\n",
    "    of two integers x and y and u, v such that d = x * u + y * v.\n",
    "    When x and y are coprime, then xu is the modular multiplicative inverse of x modulo y.\n",
    "    '''\n",
    "    u, v, d = extended_gcd( int(x), int(m) )\n",
    "    \n",
    "    return (u+m)%m\n",
    "\n",
    "#find the multiplicative inverse of a2\n",
    "a2Inv = minverse(a2, p)\n",
    "print(\"a2 inverse:\", a2Inv)\n",
    "a3 = (a2*a2Inv)%p\n",
    "print(\"a2*a2Inv (mod p) = \", a3)"
   ]
  },
  {
   "cell_type": "code",
   "execution_count": null,
   "metadata": {
    "collapsed": true
   },
   "outputs": [],
   "source": []
  }
 ],
 "metadata": {
  "kernelspec": {
   "display_name": "Python 3",
   "language": "python",
   "name": "python3"
  },
  "language_info": {
   "codemirror_mode": {
    "name": "ipython",
    "version": 3
   },
   "file_extension": ".py",
   "mimetype": "text/x-python",
   "name": "python",
   "nbconvert_exporter": "python",
   "pygments_lexer": "ipython3",
   "version": "3.5.3"
  }
 },
 "nbformat": 4,
 "nbformat_minor": 2
}
