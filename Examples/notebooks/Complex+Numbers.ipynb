{
 "cells": [
  {
   "cell_type": "markdown",
   "metadata": {},
   "source": [
    "# Complex Numbers\n",
    "This notebook will introduce the complex numbers. The complex numbers are a natural two dimensional coordinate system. They form a field, i.e. a set of numbers where the operations of addition, subtraction, multiplcation and division are applicable. A complex number $z=a+bi$, where $i^2 = -1$ and $a,b\\in \\mathbb{R}$. Let begin by testing the operations of addition and subtraction:"
   ]
  },
  {
   "cell_type": "code",
   "execution_count": 38,
   "metadata": {
    "collapsed": false
   },
   "outputs": [
    {
     "name": "stdout",
     "output_type": "stream",
     "text": [
      "z1: (4+1j)\n",
      "z2: (1+3j)\n",
      "zA: (5+4j)\n",
      "zB: (3-2j)\n"
     ]
    }
   ],
   "source": [
    "#define complex numbers\n",
    "z1 = complex(4,1) #define using complex()\n",
    "z2 = 1+3j #or use the imaginary unit j defined in Python \n",
    "\n",
    "#add and minus\n",
    "zA = z1+z2\n",
    "zB = z1-z2\n",
    "\n",
    "print(\"z1:\", z1)\n",
    "print(\"z2:\", z2)\n",
    "print(\"zA:\", zA)\n",
    "print(\"zB:\", zB)"
   ]
  },
  {
   "cell_type": "markdown",
   "metadata": {},
   "source": [
    "Things get interesting when we multiply complex numbers"
   ]
  },
  {
   "cell_type": "code",
   "execution_count": 31,
   "metadata": {
    "collapsed": false
   },
   "outputs": [
    {
     "name": "stdout",
     "output_type": "stream",
     "text": [
      "zC: (1+13j)\n"
     ]
    }
   ],
   "source": [
    "zC = z1*z2\n",
    "\n",
    "print(\"zC:\", zC)"
   ]
  },
  {
   "cell_type": "markdown",
   "metadata": {},
   "source": [
    "Lets plot this to see whats happening"
   ]
  },
  {
   "cell_type": "code",
   "execution_count": 34,
   "metadata": {
    "collapsed": false
   },
   "outputs": [
    {
     "name": "stdout",
     "output_type": "stream",
     "text": [
      "17.0\n"
     ]
    }
   ],
   "source": [
    "import numpy as np\n",
    "\n",
    "origin = 0j\n",
    "\n",
    "#extract values for plotting, let's make it into a function, \n",
    "#so we dont keep repeating it over and over\n",
    "def getCoordinates(vectors):\n",
    "    V = np.array(vectors) #create a matrix of the vectors\n",
    "    maxValue = np.abs(V.max())**2 #too scale plot automatically\n",
    "    x = np.real(V) #x coordinates, real part\n",
    "    y = np.imag(V) #y coordinates, imaginary part\n",
    "    \n",
    "    return x, y, maxValue\n",
    "\n",
    "originX, originY, maxValue = getCoordinates([origin, origin, origin]) # tail locations per vector\n",
    "#print(originX)\n",
    "X, Y, maxValue = getCoordinates([z1, z2, zC])\n",
    "#print(X)\n",
    "print(maxValue)\n",
    "colours = ['r', 'b', 'g']"
   ]
  },
  {
   "cell_type": "code",
   "execution_count": 35,
   "metadata": {
    "collapsed": false
   },
   "outputs": [
    {
     "data": {
      "image/png": "[encoded data removed]",
      "text/plain": [
       "<matplotlib.figure.Figure at 0x10fa3118c50>"
      ]
     },
     "metadata": {},
     "output_type": "display_data"
    }
   ],
   "source": [
    "import matplotlib.pyplot as plt\n",
    "\n",
    "#use the quiver plot capability of matplotlib\n",
    "plt.figure(figsize=(6,6)) #prevent a skewed view\n",
    "plt.quiver(originX, originY, X, Y, color=colours, angles='xy', scale_units='xy', scale=1)\n",
    "plt.xlim(-maxValue, maxValue)\n",
    "plt.ylim(-maxValue, maxValue)\n",
    "plt.show()"
   ]
  },
  {
   "cell_type": "markdown",
   "metadata": {},
   "source": [
    "The result is that $z_1$ is rotated by $z_2$. Consider a more simple example taking $z_2=i$ and repeatedly multiplying $z_1$ by $z_2$"
   ]
  },
  {
   "cell_type": "code",
   "execution_count": 39,
   "metadata": {
    "collapsed": false
   },
   "outputs": [
    {
     "name": "stdout",
     "output_type": "stream",
     "text": [
      "zC: (-1+4j)\n",
      "zD: (-4-1j)\n",
      "zE: (1-4j)\n",
      "zF: (4+1j)\n"
     ]
    }
   ],
   "source": [
    "z2 = 1j\n",
    "\n",
    "zC = z1*z2\n",
    "zD = zC*z2\n",
    "zE = zD*z2\n",
    "zF = zE*z2\n",
    "\n",
    "print(\"zC:\", zC)\n",
    "print(\"zD:\", zD)\n",
    "print(\"zE:\", zE)\n",
    "print(\"zF:\", zF)"
   ]
  },
  {
   "cell_type": "markdown",
   "metadata": {},
   "source": [
    "Plotting this we see that $z_1$ is rotated around the origin until it returns to its starting position!"
   ]
  },
  {
   "cell_type": "code",
   "execution_count": 45,
   "metadata": {
    "collapsed": false
   },
   "outputs": [],
   "source": [
    "originX, originY, maxValue = getCoordinates([origin, origin, origin, origin, origin]) # tail locations per vector\n",
    "X, Y, maxValue = getCoordinates([z1, zC, zD, zE, zF])\n",
    "colours = ['k', 'r', 'b', 'g', 'c']"
   ]
  },
  {
   "cell_type": "code",
   "execution_count": 46,
   "metadata": {
    "collapsed": false
   },
   "outputs": [
    {
     "data": {
      "image/png": "[encoded data removed]",
      "text/plain": [
       "<matplotlib.figure.Figure at 0x10fa2e20240>"
      ]
     },
     "metadata": {},
     "output_type": "display_data"
    }
   ],
   "source": [
    "import matplotlib.pyplot as plt\n",
    "\n",
    "#use the quiver plot capability of matplotlib\n",
    "plt.figure(figsize=(6,6)) #prevent a skewed view\n",
    "plt.quiver(originX, originY, X, Y, color=colours, angles='xy', scale_units='xy', scale=1)\n",
    "plt.xlim(-maxValue, maxValue)\n",
    "plt.ylim(-maxValue, maxValue)\n",
    "plt.show()"
   ]
  },
  {
   "cell_type": "markdown",
   "metadata": {},
   "source": [
    "Here since $|z_2|=1$, the result of the multiplcation does not change the length of the result. What happens if we use another complex number whose magnitude is also unity and repeatedly multiply a vector by it?"
   ]
  },
  {
   "cell_type": "code",
   "execution_count": 62,
   "metadata": {
    "collapsed": false
   },
   "outputs": [
    {
     "name": "stdout",
     "output_type": "stream",
     "text": [
      "norm z2: 1.0\n"
     ]
    }
   ],
   "source": [
    "import math\n",
    "\n",
    "n = 8 #number of multiplications we want\n",
    "z1 = 1\n",
    "z2 = complex( math.cos(2*math.pi/n) , math.sin(2*math.pi/n) ) # get complex vector with angle 360/n in radians\n",
    "print(\"norm z2:\", np.abs(z2))\n",
    "\n",
    "#multiply repeatedly n+1 times\n",
    "rotations = np.zeros(n+1, dtype=np.complex)\n",
    "for k in range(n+1):\n",
    "    rotations[k] = z1*z2**k\n",
    "#print(\"rotations:\", rotations)"
   ]
  },
  {
   "cell_type": "markdown",
   "metadata": {},
   "source": [
    "Lets do a plot of what this looks like in the complex plane"
   ]
  },
  {
   "cell_type": "code",
   "execution_count": 63,
   "metadata": {
    "collapsed": false
   },
   "outputs": [
    {
     "data": {
      "text/plain": [
       "[<matplotlib.lines.Line2D at 0x10fa3484c18>]"
      ]
     },
     "execution_count": 63,
     "metadata": {},
     "output_type": "execute_result"
    },
    {
     "data": {
      "image/png": "[encoded data removed]",
      "text/plain": [
       "<matplotlib.figure.Figure at 0x10fa3436fd0>"
      ]
     },
     "metadata": {},
     "output_type": "display_data"
    }
   ],
   "source": [
    "plt.figure(figsize=(6,6)) #prevent a skewed view\n",
    "plt.plot(np.real(rotations), np.imag(rotations))"
   ]
  },
  {
   "cell_type": "markdown",
   "metadata": {},
   "source": [
    ":O\n",
    "Play around with $n$, what happens when $n$ is large?\n",
    "\n",
    "In conclusion, the complex numbers form a natural 2D system where multiplication is represented as rotations in the 2D plane."
   ]
  },
  {
   "cell_type": "code",
   "execution_count": null,
   "metadata": {
    "collapsed": true
   },
   "outputs": [],
   "source": []
  }
 ],
 "metadata": {
  "kernelspec": {
   "display_name": "Python 3",
   "language": "python",
   "name": "python3"
  },
  "language_info": {
   "codemirror_mode": {
    "name": "ipython",
    "version": 3
   },
   "file_extension": ".py",
   "mimetype": "text/x-python",
   "name": "python",
   "nbconvert_exporter": "python",
   "pygments_lexer": "ipython3",
   "version": "3.5.3"
  }
 },
 "nbformat": 4,
 "nbformat_minor": 2
}
