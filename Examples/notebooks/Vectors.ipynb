{
 "cells": [
  {
   "cell_type": "markdown",
   "metadata": {},
   "source": [
    "# Vectors\n",
    "This notebook discusses the basic properties of vectors and their products\n",
    "\n",
    "Let begin by defining some vectors $\\tilde{a}$ and $\\tilde{b}$"
   ]
  },
  {
   "cell_type": "code",
   "execution_count": 144,
   "metadata": {
    "collapsed": false
   },
   "outputs": [],
   "source": [
    "import numpy as np\n",
    "\n",
    "#vectors\n",
    "origin = [0, 0]\n",
    "a = np.array([4, 1])\n",
    "b = np.array([1, 3])\n",
    "#b = np.array([-1, 4])\n",
    "\n",
    "#extract values for plotting, let's make it into a function, \n",
    "#so we dont keep repeating it over and over\n",
    "def getCoordinates(vectors):\n",
    "    V = np.array(vectors) #create a matrix of the vectors\n",
    "    maxValue = V.max()+1 #too scale plot automatically\n",
    "    x = V[:,0] #x coordinates, column 0\n",
    "    y = V[:,1] #y coordinates, column 1\n",
    "    \n",
    "    return x, y, maxValue\n",
    "\n",
    "originX, originY, maxValue = getCoordinates([origin, origin]) # tail locations per vector\n",
    "X, Y, maxValue = getCoordinates([a, b])\n",
    "colours = ['r', 'b']"
   ]
  },
  {
   "cell_type": "markdown",
   "metadata": {},
   "source": [
    "\n",
    "Plot the vectors"
   ]
  },
  {
   "cell_type": "code",
   "execution_count": 145,
   "metadata": {
    "collapsed": false
   },
   "outputs": [
    {
     "data": {
      "image/png": "[encoded data removed]",
      "text/plain": [
       "<matplotlib.figure.Figure at 0x14001909828>"
      ]
     },
     "metadata": {},
     "output_type": "display_data"
    }
   ],
   "source": [
    "import matplotlib.pyplot as plt\n",
    "\n",
    "#use the quiver plot capability of matplotlib\n",
    "plt.figure(figsize=(6,6)) #prevent a skewed view\n",
    "plt.quiver(originX, originY, X, Y, color=colours, angles='xy', scale_units='xy', scale=1)\n",
    "plt.xlim(-maxValue, maxValue)\n",
    "plt.ylim(-maxValue, maxValue)\n",
    "plt.show()"
   ]
  },
  {
   "cell_type": "markdown",
   "metadata": {},
   "source": [
    "### Vector Arithmetic\n",
    "Let's do some simple arithmetic of vectors $\\tilde{c}=\\tilde{a}+\\tilde{b}$, $\\tilde{d}=\\tilde{a}-\\tilde{b}$, $\\tilde{e}=2\\cdot\\tilde{a}$. What are the results?"
   ]
  },
  {
   "cell_type": "code",
   "execution_count": 146,
   "metadata": {
    "collapsed": false
   },
   "outputs": [
    {
     "name": "stdout",
     "output_type": "stream",
     "text": [
      "a: [4 1]\n",
      "b: [1 3]\n",
      "c: [5 4]\n",
      "d: [ 3 -2]\n",
      "e: [8 2]\n"
     ]
    }
   ],
   "source": [
    "c = a+b\n",
    "d = a-b\n",
    "e = 2*a\n",
    "print(\"a:\", a)\n",
    "print(\"b:\", b)\n",
    "print(\"c:\", c)\n",
    "print(\"d:\", d)\n",
    "print(\"e:\", e)\n",
    "\n",
    "originX, originY, maxValue = getCoordinates([origin, origin, origin]) # tail locations per vector\n",
    "X, Y, maxValue = getCoordinates([c, d, e])"
   ]
  },
  {
   "cell_type": "code",
   "execution_count": 147,
   "metadata": {
    "collapsed": false
   },
   "outputs": [
    {
     "data": {
      "image/png": "[encoded data removed]",
      "text/plain": [
       "<matplotlib.figure.Figure at 0x140018df748>"
      ]
     },
     "metadata": {},
     "output_type": "display_data"
    }
   ],
   "source": [
    "#use the quiver plot capability of matplotlib\n",
    "plt.figure(figsize=(6,6)) #prevent a skewed view\n",
    "plt.quiver(originX, originY, X, Y, angles='xy', scale_units='xy', scale=1)\n",
    "plt.xlim(-maxValue, maxValue)\n",
    "plt.ylim(-maxValue, maxValue)\n",
    "plt.show()"
   ]
  },
  {
   "cell_type": "markdown",
   "metadata": {},
   "source": [
    "### Vector Products\n",
    "How do we multiply vectors though? We get the dot product or the inner product $\\tilde{a}\\cdot\\tilde{b}$"
   ]
  },
  {
   "cell_type": "code",
   "execution_count": 148,
   "metadata": {
    "collapsed": false
   },
   "outputs": [
    {
     "name": "stdout",
     "output_type": "stream",
     "text": [
      "b_a: 1.69774937525\n",
      "f: 7\n",
      "g: 7.0\n"
     ]
    }
   ],
   "source": [
    "import math\n",
    "\n",
    "#dot or inner product\n",
    "f = np.dot(a, b) \n",
    "\n",
    "#project b onto a\n",
    "#compute angle between them\n",
    "theta = math.atan(b[1]/b[0]) - math.atan(a[1]/a[0]) #atan is arctan function\n",
    "#project\n",
    "b_a = np.linalg.norm(b)*math.cos(theta)\n",
    "print(\"b_a:\", b_a)\n",
    "\n",
    "#compare with projection of vector\n",
    "g = np.linalg.norm(a)*b_a\n",
    "#print(\"a:\", np.linalg.norm(a))\n",
    "#print(\"b:\", np.linalg.norm(b))\n",
    "print(\"f:\", f)\n",
    "print(\"g:\", g)"
   ]
  },
  {
   "cell_type": "markdown",
   "metadata": {},
   "source": [
    "Lets plot the results to see what has happened"
   ]
  },
  {
   "cell_type": "code",
   "execution_count": 149,
   "metadata": {
    "collapsed": true
   },
   "outputs": [],
   "source": [
    "aUnit = a/np.linalg.norm(a)\n",
    "h = b_a*aUnit\n",
    "\n",
    "originX, originY, maxValue = getCoordinates([origin, origin, origin]) # tail locations per vector\n",
    "X, Y, maxValue = getCoordinates([a, b, h])\n",
    "colours = ['r', 'b', 'g']"
   ]
  },
  {
   "cell_type": "code",
   "execution_count": 150,
   "metadata": {
    "collapsed": false
   },
   "outputs": [
    {
     "data": {
      "image/png": "[encoded data removed]",
      "text/plain": [
       "<matplotlib.figure.Figure at 0x14001b8f2b0>"
      ]
     },
     "metadata": {},
     "output_type": "display_data"
    }
   ],
   "source": [
    "#use the quiver plot capability of matplotlib\n",
    "plt.figure(figsize=(6,6)) #prevent a skewed view\n",
    "plt.quiver(originX, originY, X, Y, color=colours, angles='xy', scale_units='xy', scale=1)\n",
    "plt.xlim(-maxValue, maxValue)\n",
    "plt.ylim(-maxValue, maxValue)\n",
    "plt.show()"
   ]
  },
  {
   "cell_type": "markdown",
   "metadata": {},
   "source": [
    "So the dot/inner product is a scaled projection of the vector onto the other, i.e. the amount that $\\tilde{b}$ has in common with $\\tilde{a}$. Important case to consider: $\\tilde{a}\\cdot\\tilde{a}$, which gives the length of the vector squared."
   ]
  },
  {
   "cell_type": "code",
   "execution_count": 151,
   "metadata": {
    "collapsed": false
   },
   "outputs": [
    {
     "name": "stdout",
     "output_type": "stream",
     "text": [
      "a norm: 4.12310562562\n",
      "a dot a: 4.123105625617661\n"
     ]
    }
   ],
   "source": [
    "print(\"a norm:\", np.linalg.norm(a))\n",
    "print(\"a dot a:\", math.sqrt(np.dot(a, a)))"
   ]
  },
  {
   "cell_type": "markdown",
   "metadata": {},
   "source": [
    "Let us define our own inner product as $\\sum_i^N a_i b_i$, where $N$ is the length (or dimension) of the vectors."
   ]
  },
  {
   "cell_type": "code",
   "execution_count": 152,
   "metadata": {
    "collapsed": false
   },
   "outputs": [
    {
     "name": "stdout",
     "output_type": "stream",
     "text": [
      "a dot a: 4.123105625617661\n",
      "a inner: 4.123105625617661\n"
     ]
    }
   ],
   "source": [
    "def inner_product(a, b):\n",
    "    total = 0\n",
    "    for i, value in enumerate(a):\n",
    "        total += a[i]*b[i]\n",
    "        \n",
    "    return total\n",
    "\n",
    "print(\"a dot a:\", math.sqrt(np.dot(a, a)))\n",
    "print(\"a inner:\", math.sqrt(inner_product(a, a)))"
   ]
  },
  {
   "cell_type": "code",
   "execution_count": 153,
   "metadata": {
    "collapsed": false
   },
   "outputs": [
    {
     "name": "stdout",
     "output_type": "stream",
     "text": [
      "a dot a: 2.6457513110645907\n",
      "a inner: 2.6457513110645907\n"
     ]
    }
   ],
   "source": [
    "print(\"a dot a:\", math.sqrt(np.dot(a, b)))\n",
    "print(\"a inner:\", math.sqrt(inner_product(a, b)))"
   ]
  },
  {
   "cell_type": "markdown",
   "metadata": {},
   "source": [
    "So taking the inner product is the same as projecting $\\tilde{a}$ onto $\\tilde{a}$ and scaling it by $\\tilde{a}$. If the norm is of $\\tilde{a}$ is a unit, i.e. $|\\tilde{a}|=1$ so it is a unit vector, then it is exactly the same as projecting $\\tilde{b}$ onto $\\tilde{a}$. If the vectors $\\tilde{a}$ and $\\tilde{b}$ are perpendicular to each other, then they have nothing in common, their dot product is zero and they are referred to as orthogonal vectors."
   ]
  },
  {
   "cell_type": "markdown",
   "metadata": {},
   "source": [
    "We will see that if we choose a set of special vectors, which are unit and mutually orthogonal, we can create 'transforms' to see how much a vector (or signal in our case) has common with these special vectors using the inner product with all vectors in this special set. If the vectors are the complex-valued harmonics, we will have a Fourier transform!"
   ]
  }
 ],
 "metadata": {
  "kernelspec": {
   "display_name": "Python 3",
   "language": "python",
   "name": "python3"
  },
  "language_info": {
   "codemirror_mode": {
    "name": "ipython",
    "version": 3
   },
   "file_extension": ".py",
   "mimetype": "text/x-python",
   "name": "python",
   "nbconvert_exporter": "python",
   "pygments_lexer": "ipython3",
   "version": "3.5.3"
  }
 },
 "nbformat": 4,
 "nbformat_minor": 2
}
